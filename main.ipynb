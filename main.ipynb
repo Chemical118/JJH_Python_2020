{
 "cells": [
  {
   "cell_type": "markdown",
   "metadata": {},
   "source": [
    "Python 9/9\n",
    "============\n",
    "### type - 객체의 type을 리턴하는 함수\n",
    "* * *"
   ]
  },
  {
   "cell_type": "code",
   "execution_count": 1,
   "metadata": {},
   "outputs": [
    {
     "data": {
      "text/plain": [
       "int"
      ]
     },
     "execution_count": 1,
     "metadata": {},
     "output_type": "execute_result"
    }
   ],
   "source": [
    "type(123)"
   ]
  },
  {
   "cell_type": "markdown",
   "metadata": {},
   "source": [
    "### help - help 메세지를 보여주는 함수\n",
    "* * *"
   ]
  },
  {
   "cell_type": "code",
   "execution_count": 2,
   "metadata": {},
   "outputs": [
    {
     "name": "stdout",
     "output_type": "stream",
     "text": [
      "Help on built-in function print in module builtins:\n",
      "\n",
      "print(...)\n",
      "    print(value, ..., sep=' ', end='\\n', file=sys.stdout, flush=False)\n",
      "    \n",
      "    Prints the values to a stream, or to sys.stdout by default.\n",
      "    Optional keyword arguments:\n",
      "    file:  a file-like object (stream); defaults to the current sys.stdout.\n",
      "    sep:   string inserted between values, default a space.\n",
      "    end:   string appended after the last value, default a newline.\n",
      "    flush: whether to forcibly flush the stream.\n",
      "\n"
     ]
    }
   ],
   "source": [
    "help(print)"
   ]
  },
  {
   "cell_type": "markdown",
   "metadata": {},
   "source": [
    "### dir - 객체의 속성과 메소드를 리스트로 보여줌\n",
    "* * *"
   ]
  },
  {
   "cell_type": "code",
   "execution_count": 3,
   "metadata": {},
   "outputs": [
    {
     "data": {
      "text/plain": [
       "['__add__',\n",
       " '__class__',\n",
       " '__contains__',\n",
       " '__delattr__',\n",
       " '__dir__',\n",
       " '__doc__',\n",
       " '__eq__',\n",
       " '__format__',\n",
       " '__ge__',\n",
       " '__getattribute__',\n",
       " '__getitem__',\n",
       " '__getnewargs__',\n",
       " '__gt__',\n",
       " '__hash__',\n",
       " '__init__',\n",
       " '__init_subclass__',\n",
       " '__iter__',\n",
       " '__le__',\n",
       " '__len__',\n",
       " '__lt__',\n",
       " '__mod__',\n",
       " '__mul__',\n",
       " '__ne__',\n",
       " '__new__',\n",
       " '__reduce__',\n",
       " '__reduce_ex__',\n",
       " '__repr__',\n",
       " '__rmod__',\n",
       " '__rmul__',\n",
       " '__setattr__',\n",
       " '__sizeof__',\n",
       " '__str__',\n",
       " '__subclasshook__',\n",
       " 'capitalize',\n",
       " 'casefold',\n",
       " 'center',\n",
       " 'count',\n",
       " 'encode',\n",
       " 'endswith',\n",
       " 'expandtabs',\n",
       " 'find',\n",
       " 'format',\n",
       " 'format_map',\n",
       " 'index',\n",
       " 'isalnum',\n",
       " 'isalpha',\n",
       " 'isascii',\n",
       " 'isdecimal',\n",
       " 'isdigit',\n",
       " 'isidentifier',\n",
       " 'islower',\n",
       " 'isnumeric',\n",
       " 'isprintable',\n",
       " 'isspace',\n",
       " 'istitle',\n",
       " 'isupper',\n",
       " 'join',\n",
       " 'ljust',\n",
       " 'lower',\n",
       " 'lstrip',\n",
       " 'maketrans',\n",
       " 'partition',\n",
       " 'replace',\n",
       " 'rfind',\n",
       " 'rindex',\n",
       " 'rjust',\n",
       " 'rpartition',\n",
       " 'rsplit',\n",
       " 'rstrip',\n",
       " 'split',\n",
       " 'splitlines',\n",
       " 'startswith',\n",
       " 'strip',\n",
       " 'swapcase',\n",
       " 'title',\n",
       " 'translate',\n",
       " 'upper',\n",
       " 'zfill']"
      ]
     },
     "execution_count": 3,
     "metadata": {},
     "output_type": "execute_result"
    }
   ],
   "source": [
    "dir(str)"
   ]
  },
  {
   "cell_type": "code",
   "execution_count": 4,
   "metadata": {},
   "outputs": [
    {
     "name": "stdout",
     "output_type": "stream",
     "text": [
      "<class 'list'>\n",
      "True\n"
     ]
    }
   ],
   "source": [
    "print(type(dir(str)))\n",
    "print(\"split\" in dir(str))"
   ]
  },
  {
   "cell_type": "markdown",
   "metadata": {},
   "source": [
    "## 숫자형\n",
    "### 1. int (정수)\n",
    "### 2. float (실수)\n",
    "### 3. complex (복소수)"
   ]
  },
  {
   "cell_type": "code",
   "execution_count": 5,
   "metadata": {},
   "outputs": [
    {
     "data": {
      "text/plain": [
       "2"
      ]
     },
     "execution_count": 5,
     "metadata": {},
     "output_type": "execute_result"
    }
   ],
   "source": [
    "int(\"10\",2)"
   ]
  },
  {
   "cell_type": "markdown",
   "metadata": {},
   "source": [
    "Python 9/11\n",
    "============\n",
    "### 소수점의 신비"
   ]
  },
  {
   "cell_type": "code",
   "execution_count": 6,
   "metadata": {},
   "outputs": [
    {
     "name": "stdout",
     "output_type": "stream",
     "text": [
      "1.0\n",
      "1.0\n",
      "1.00\n"
     ]
    }
   ],
   "source": [
    "print(round(1.000,2))\n",
    "print(1.000)\n",
    "print(\"%.2f\" %1.000)"
   ]
  },
  {
   "cell_type": "markdown",
   "metadata": {},
   "source": [
    "### round 함수의 신비"
   ]
  },
  {
   "cell_type": "code",
   "execution_count": 7,
   "metadata": {},
   "outputs": [
    {
     "name": "stdout",
     "output_type": "stream",
     "text": [
      "2\n",
      "2\n"
     ]
    }
   ],
   "source": [
    "print(round(1.5))\n",
    "print(round(2.5))"
   ]
  },
  {
   "cell_type": "code",
   "execution_count": 8,
   "metadata": {},
   "outputs": [
    {
     "name": "stdout",
     "output_type": "stream",
     "text": [
      "Help on built-in function round in module builtins:\n",
      "\n",
      "round(number, ndigits=None)\n",
      "    Round a number to a given precision in decimal digits.\n",
      "    \n",
      "    The return value is an integer if ndigits is omitted or None.  Otherwise\n",
      "    the return value has the same type as the number.  ndigits may be negative.\n",
      "\n"
     ]
    }
   ],
   "source": [
    "help(round)"
   ]
  },
  {
   "cell_type": "markdown",
   "metadata": {},
   "source": [
    "### .5 인 경우에는 짝수에 간다\n",
    "### bool - 불 자료형\n",
    "* * *"
   ]
  },
  {
   "cell_type": "code",
   "execution_count": 9,
   "metadata": {},
   "outputs": [
    {
     "name": "stdout",
     "output_type": "stream",
     "text": [
      "True\n",
      "True\n",
      "False\n",
      "False\n"
     ]
    }
   ],
   "source": [
    "print(True ==  1)\n",
    "print(False == 0)\n",
    "print(True == -1)\n",
    "print(False == -1)"
   ]
  },
  {
   "cell_type": "markdown",
   "metadata": {},
   "source": [
    "### bool 객체 생성하기"
   ]
  },
  {
   "cell_type": "code",
   "execution_count": 10,
   "metadata": {},
   "outputs": [
    {
     "name": "stdout",
     "output_type": "stream",
     "text": [
      "True\n",
      "True\n",
      "False\n",
      "True\n",
      "False\n"
     ]
    }
   ],
   "source": [
    "print(bool(1))\n",
    "print(bool(3))\n",
    "print(bool(0))\n",
    "print(bool(\"I love Python\"))\n",
    "print(bool({}))"
   ]
  },
  {
   "cell_type": "markdown",
   "metadata": {},
   "source": [
    "### JJH 예상 문제"
   ]
  },
  {
   "cell_type": "code",
   "execution_count": 11,
   "metadata": {},
   "outputs": [
    {
     "name": "stdout",
     "output_type": "stream",
     "text": [
      "True False False True\n"
     ]
    }
   ],
   "source": [
    "a, b = True, False\n",
    "c, d = a == b, a!=b\n",
    "print(a,b,c,d)"
   ]
  },
  {
   "cell_type": "markdown",
   "metadata": {},
   "source": [
    "### 신비한 Python의 세계"
   ]
  },
  {
   "cell_type": "code",
   "execution_count": 12,
   "metadata": {},
   "outputs": [
    {
     "name": "stdout",
     "output_type": "stream",
     "text": [
      "False\n",
      "True\n",
      "False\n"
     ]
    }
   ],
   "source": [
    "print(\"a\" == \"ab\")\n",
    "print(\"a\" < \"ba\")\n",
    "print(\"a\" < \"A\") # 아스키 코드"
   ]
  },
  {
   "cell_type": "code",
   "execution_count": 13,
   "metadata": {},
   "outputs": [
    {
     "name": "stdout",
     "output_type": "stream",
     "text": [
      "True\n",
      "False\n"
     ]
    }
   ],
   "source": [
    "a, b = 3, 3.0\n",
    "print(a==b)\n",
    "print(a is b)"
   ]
  },
  {
   "cell_type": "markdown",
   "metadata": {},
   "source": [
    "### id : 유사 포인터"
   ]
  },
  {
   "cell_type": "code",
   "execution_count": 14,
   "metadata": {},
   "outputs": [
    {
     "name": "stdout",
     "output_type": "stream",
     "text": [
      "140725233137504\n",
      "True\n",
      "False\n",
      "True\n"
     ]
    }
   ],
   "source": [
    "print(id(3))\n",
    "a = 3\n",
    "b = 3.0\n",
    "print(id(a) == id(3))\n",
    "print(id(a) == id(3.0))\n",
    "c = \"!\"\n",
    "print(id(\"!\") == id(c))"
   ]
  },
  {
   "cell_type": "markdown",
   "metadata": {},
   "source": [
    "### Tuple의 함정"
   ]
  },
  {
   "cell_type": "code",
   "execution_count": 15,
   "metadata": {},
   "outputs": [
    {
     "name": "stdout",
     "output_type": "stream",
     "text": [
      "<class 'int'>\n"
     ]
    }
   ],
   "source": [
    "t = (1+1)\n",
    "print(type(t))"
   ]
  },
  {
   "cell_type": "markdown",
   "metadata": {},
   "source": [
    "### 한개의 원소를 가지는 Tuple을 만드려면 ,를 넣어야 한다"
   ]
  },
  {
   "cell_type": "code",
   "execution_count": 16,
   "metadata": {},
   "outputs": [
    {
     "name": "stdout",
     "output_type": "stream",
     "text": [
      "<class 'tuple'>\n"
     ]
    }
   ],
   "source": [
    "t = (1+1,)\n",
    "print(type(t))"
   ]
  },
  {
   "cell_type": "markdown",
   "metadata": {},
   "source": [
    "### 공백 set을 만드는 방법 "
   ]
  },
  {
   "cell_type": "code",
   "execution_count": 17,
   "metadata": {},
   "outputs": [
    {
     "name": "stdout",
     "output_type": "stream",
     "text": [
      "<class 'dict'>\n",
      "<class 'set'>\n"
     ]
    }
   ],
   "source": [
    "s = {}\n",
    "print(type(s))\n",
    "s = set()\n",
    "print(type(s))"
   ]
  },
  {
   "cell_type": "markdown",
   "metadata": {},
   "source": [
    "### Tuple에 대한 고찰"
   ]
  },
  {
   "cell_type": "code",
   "execution_count": 18,
   "metadata": {},
   "outputs": [
    {
     "name": "stdout",
     "output_type": "stream",
     "text": [
      "TypeError: tuple expected at most 1 argument, got 3\n"
     ]
    }
   ],
   "source": [
    "# t = tuple(1,2,3)\n",
    "print(\"TypeError: tuple expected at most 1 argument, got 3\") # Error 발생!"
   ]
  },
  {
   "cell_type": "code",
   "execution_count": 19,
   "metadata": {},
   "outputs": [
    {
     "name": "stdout",
     "output_type": "stream",
     "text": [
      "('I', 'love', 'Python!')\n"
     ]
    }
   ],
   "source": [
    "t = tuple(range(10))\n",
    "t = tuple(\"I love Python!\".split())\n",
    "print(t)"
   ]
  },
  {
   "cell_type": "markdown",
   "metadata": {},
   "source": [
    "### 반복 가능한 객체만이 들어가야 한다"
   ]
  },
  {
   "cell_type": "code",
   "execution_count": 20,
   "metadata": {},
   "outputs": [
    {
     "name": "stdout",
     "output_type": "stream",
     "text": [
      "0\n",
      "1\n",
      "2\n",
      "3\n",
      "4\n",
      "5\n",
      "6\n",
      "7\n",
      "8\n",
      "9\n",
      "StopIteration\n"
     ]
    }
   ],
   "source": [
    "it = range(10).__iter__()\n",
    "for _ in range(10):\n",
    "    print(it.__next__())\n",
    "print(\"StopIteration\")"
   ]
  },
  {
   "cell_type": "markdown",
   "metadata": {},
   "source": [
    "### 파이썬의 신비"
   ]
  },
  {
   "cell_type": "code",
   "execution_count": 21,
   "metadata": {},
   "outputs": [
    {
     "name": "stdout",
     "output_type": "stream",
     "text": [
      "Error!\n"
     ]
    }
   ],
   "source": [
    "# print = 10\n",
    "print(\"Error!\") #원래는 Error 발생"
   ]
  },
  {
   "cell_type": "markdown",
   "metadata": {},
   "source": [
    "### 파이썬 숏코딩의 신비"
   ]
  },
  {
   "cell_type": "code",
   "execution_count": 22,
   "metadata": {},
   "outputs": [
    {
     "name": "stdout",
     "output_type": "stream",
     "text": [
      "0\n",
      "1\n",
      "2\n",
      "3\n",
      "4\n",
      "5\n",
      "6\n",
      "7\n",
      "8\n",
      "9\n"
     ]
    }
   ],
   "source": [
    "print(*list(range(10)),sep=\"\\n\")"
   ]
  },
  {
   "cell_type": "code",
   "execution_count": 23,
   "metadata": {},
   "outputs": [
    {
     "name": "stdout",
     "output_type": "stream",
     "text": [
      "1 2 4 5\n",
      "\n",
      "2 4\n",
      "\n",
      "odd even even odd\n"
     ]
    }
   ],
   "source": [
    "a = [1,2,4,5]\n",
    "print(*[i for i in a])\n",
    "print()\n",
    "print(*[int(i) for i in a if int(i) % 2 == 0 ])\n",
    "print()\n",
    "print(*[\"even\" if int(i) % 2 == 0 else \"odd\" for i in a])"
   ]
  },
  {
   "cell_type": "markdown",
   "metadata": {},
   "source": [
    "### 숏코딩의 세계\n",
    "#### 1. join 함수를 이용하자"
   ]
  },
  {
   "cell_type": "code",
   "execution_count": 24,
   "metadata": {},
   "outputs": [
    {
     "name": "stdout",
     "output_type": "stream",
     "text": [
      "0 1 2 3 4 5 6 7 8 9\n",
      "0 1 2 3 4 5 6 7 8 9\n"
     ]
    }
   ],
   "source": [
    "l = list(range(10))\n",
    "print(*l)\n",
    "print(\" \".join(map(str,l))) # int로 하면 터진다!"
   ]
  },
  {
   "cell_type": "markdown",
   "metadata": {},
   "source": [
    "#### 2. eval을 이용하자 (feat. join 함수)"
   ]
  },
  {
   "cell_type": "code",
   "execution_count": 25,
   "metadata": {},
   "outputs": [
    {
     "name": "stdout",
     "output_type": "stream",
     "text": [
      "120\n",
      "120\n"
     ]
    }
   ],
   "source": [
    "a = list(range(1,6)) # 리스트의 총 곱을 알고 싶다\n",
    "ans = 1\n",
    "for i in a: # 간단한 for 문을 이용해서 구할 수 있다\n",
    "    ans *= i\n",
    "print(ans)\n",
    "print(eval(\"*\".join(map(str,a)))) # join, eval 함수를 응용해보자!"
   ]
  },
  {
   "cell_type": "markdown",
   "metadata": {},
   "source": [
    "## Python 9/28\n",
    "### 파이썬 함수의 신비"
   ]
  },
  {
   "cell_type": "code",
   "execution_count": 26,
   "metadata": {},
   "outputs": [],
   "source": [
    "def f(x):\n",
    "    print(\"I love Python!\")\n",
    "    # return 1"
   ]
  },
  {
   "cell_type": "markdown",
   "metadata": {},
   "source": [
    "#### 함수의 리턴 타입, 매개변수 타입은 미리 지정되지 않는다\n",
    "#### 각각의 내용들은 Tab으로 구분\n",
    "#### 매개변수로 무언가를 실행하고 그것을 반환해준다\n",
    "* * *\n",
    "###  가변 매개변수"
   ]
  },
  {
   "cell_type": "code",
   "execution_count": 27,
   "metadata": {},
   "outputs": [
    {
     "name": "stdout",
     "output_type": "stream",
     "text": [
      "45\n",
      "10\n",
      "45\n",
      "10\n"
     ]
    }
   ],
   "source": [
    "def adds(*args):\n",
    "    sum = 0\n",
    "    for i in args: \n",
    "        sum+=i\n",
    "    return sum\n",
    "\n",
    "def add(args):\n",
    "    sum = 0\n",
    "    for i in args:\n",
    "        sum+=i\n",
    "    return sum\n",
    "\n",
    "print(add(list(range(10))))\n",
    "print(add((1,2,3,4)))\n",
    "print(adds(*list(range(10)))) # 리스트의 unpacking에 유의하자\n",
    "print(adds(1,2,3,4)) # 2번째와의 차이를 보자, 인자가 튜플인지 여러개"
   ]
  },
  {
   "cell_type": "markdown",
   "metadata": {},
   "source": [
    "###  리턴값이 여러개 인 경우"
   ]
  },
  {
   "cell_type": "code",
   "execution_count": 28,
   "metadata": {},
   "outputs": [
    {
     "name": "stdout",
     "output_type": "stream",
     "text": [
      "<class 'tuple'>\n",
      "(5, 1, 6, 1.5)\n",
      "\n",
      "5\n",
      "1\n",
      "6\n",
      "1.5\n"
     ]
    }
   ],
   "source": [
    "def calc(a,b):\n",
    "    return a+b,a-b,a*b,round(a/b,2)\n",
    "print(type(calc(3,2)))\n",
    "print(calc(3,2))\n",
    "print()\n",
    "print(*calc(3,2),sep=\"\\n\") # tuple의 unpacking"
   ]
  },
  {
   "cell_type": "markdown",
   "metadata": {},
   "source": [
    "### 매개변수에 초기값 지정"
   ]
  },
  {
   "cell_type": "code",
   "execution_count": 29,
   "metadata": {},
   "outputs": [
    {
     "name": "stdout",
     "output_type": "stream",
     "text": [
      "good morning everyone\n",
      "good luck everyone\n",
      "good luck \n",
      "good morning !!!\n"
     ]
    }
   ],
   "source": [
    "def hello(time=\"morning\",target=\"everyone\"):\n",
    "    print(\"good\",time,target)\n",
    "hello() # 값을 바꾸지 않으면 standard로\n",
    "hello(\"luck\") \n",
    "hello(\"luck\",\"\") # 인자가 지정 안되있으면 순서에 따라서\n",
    "hello(target=\"!!!\") # 인자를 지정하지 않으면 순서 상관 X"
   ]
  },
  {
   "cell_type": "markdown",
   "metadata": {},
   "source": [
    "### C언어의 추억\n",
    "* 전역변수와 지역변수\n",
    "* all by reference and value"
   ]
  },
  {
   "cell_type": "code",
   "execution_count": 30,
   "metadata": {},
   "outputs": [
    {
     "name": "stdout",
     "output_type": "stream",
     "text": [
      "20\n",
      "10\n",
      "NameError : name 'b' is not defined\n"
     ]
    }
   ],
   "source": [
    "a = 10\n",
    "def f():\n",
    "    b = a + 10 # 전역변수 접근 가능\n",
    "    print(b)\n",
    "f()\n",
    "print(a)\n",
    "# print(b)\n",
    "print(\"NameError : name 'b' is not defined\") # 윗줄에서 Error 발생!"
   ]
  },
  {
   "cell_type": "markdown",
   "metadata": {},
   "source": [
    "* 함수 내의 값은 지역변수, 바깥에 있는 것은 전역변수\n",
    "* 함수 내에서 전역변수를 접근하기 위해서는 global 사용"
   ]
  },
  {
   "cell_type": "code",
   "execution_count": 31,
   "metadata": {},
   "outputs": [
    {
     "name": "stdout",
     "output_type": "stream",
     "text": [
      "30\n",
      "30\n"
     ]
    }
   ],
   "source": [
    "a = 10\n",
    "def f():\n",
    "    # a = 20 global 선언하기 전에 이름이 같은 것을 선언하면 Error!\n",
    "    global a\n",
    "    a = 30\n",
    "    print(a)\n",
    "f()\n",
    "print(a)\n",
    "# 하지만 이러한 행위는 권장되지 않는 다는 것을 명심하자!"
   ]
  },
  {
   "cell_type": "markdown",
   "metadata": {},
   "source": [
    "* immutable & mutable (바꿀수 있는 것과 없는 것)\n",
    "* immutable : 숫자형, str, tuple, range\n",
    "* \n",
    "mutable : list, dict, set "
   ]
  },
  {
   "cell_type": "code",
   "execution_count": 32,
   "metadata": {},
   "outputs": [
    {
     "name": "stdout",
     "output_type": "stream",
     "text": [
      "[0, 1, 2, 3, 4, 5, 6, 7, 8, 9]\n",
      "I hate candy\n",
      "2799970786816\n",
      "2799970786816\n",
      "2799969982784\n",
      "[45, 1, 2, 3, 4, 5, 6, 7, 8, 9]\n",
      "I hate candy\n"
     ]
    }
   ],
   "source": [
    "a = list(range(10))\n",
    "b = \"I hate candy\"\n",
    "print(a,b,sep=\"\\n\")\n",
    "print(id(a))\n",
    "\n",
    "def f(a): # list는 mutable이여서 call by reference\n",
    "    a[0] = sum(a) # list 내에서의 변화는 id가 변하지 않지만\n",
    "    print(id(a)) # 아래거처럼 통으로 변화는 것은 id가 변하게 된다\n",
    "    a = a[::-1] # 부분 리스트를 만드는 것은 다른 리스트를 반환한다\n",
    "    print(id(a))\n",
    "    \n",
    "def g(b): # str는 immutable이려서 call by value\n",
    "    b = \"He\" + b[1:]\n",
    "    \n",
    "f(a)\n",
    "g(b)\n",
    "print(a,b,sep=\"\\n\")\n",
    "\n",
    "a = [1,2,3]\n",
    "d = a.copy()\n",
    "# 이러면 id가 다르다!\n",
    "b = a\n",
    "c = a[:]\n",
    "# filter, reduce???"
   ]
  },
  {
   "cell_type": "markdown",
   "metadata": {},
   "source": [
    "### id에 대한 고찰과 call by reference 해결볍\n",
    "#### 아까전에 a[::-1]의 id가 달랐던 이유는 무엇일까?\n",
    "#### slicing은 부분 리스트를 만드는 것이므로, id가 다른 새로운 객체가 만들어질 것이다\n",
    "* * *"
   ]
  },
  {
   "cell_type": "code",
   "execution_count": 33,
   "metadata": {},
   "outputs": [
    {
     "name": "stdout",
     "output_type": "stream",
     "text": [
      "2799970631296\n",
      "2799970220160\n",
      "2799970562624\n"
     ]
    }
   ],
   "source": [
    "a = list(range(10))\n",
    "print(id(a))\n",
    "b = a[:] # 같은 리스트를 만드는 방법들\n",
    "print(id(b))\n",
    "c = a.copy() # 위의 코드와 깉은 결과\n",
    "print(id(c))\n",
    "# 모두 다른 값을 보여준다"
   ]
  },
  {
   "cell_type": "markdown",
   "metadata": {},
   "source": [
    "#### 이를 call by reference 상황에서 응용해보자"
   ]
  },
  {
   "cell_type": "code",
   "execution_count": 34,
   "metadata": {},
   "outputs": [
    {
     "name": "stdout",
     "output_type": "stream",
     "text": [
      "누적합 배열 : [1, 4, 10, 20, 35, 56, 84, 120, 165, 220]\n",
      "원래 배열 : [1, 4, 10, 20, 35, 56, 84, 120, 165, 220]\n"
     ]
    }
   ],
   "source": [
    "a = list(range(1,11))\n",
    "def f(x):\n",
    "    for i in range(1,len(x)):\n",
    "        x[i] += x[i-1]\n",
    "    return x\n",
    "f(a)\n",
    "print(\"누적합 배열 :\",f(a))\n",
    "print(\"원래 배열 :\",a) # ??? 이게 왜 바뀌었지..? :("
   ]
  },
  {
   "cell_type": "markdown",
   "metadata": {},
   "source": [
    "#### 이와 같은 상황을 해결하기 위해서 copy or [:] (slicing)을 이용하자"
   ]
  },
  {
   "cell_type": "code",
   "execution_count": 35,
   "metadata": {},
   "outputs": [
    {
     "name": "stdout",
     "output_type": "stream",
     "text": [
      "누적합 배열 : [1, 3, 6, 10, 15, 21, 28, 36, 45, 55]\n",
      "원래 배열 : [1, 2, 3, 4, 5, 6, 7, 8, 9, 10]\n"
     ]
    }
   ],
   "source": [
    "a = list(range(1,11))\n",
    "def f(t):\n",
    "    x = t.copy() # x = t[:] 도 가능\n",
    "    for i in range(1,len(x)):\n",
    "        x[i] += x[i-1]\n",
    "    return x\n",
    "f(a)\n",
    "print(\"누적합 배열 :\",f(a))\n",
    "print(\"원래 배열 :\",a) # ??? 아 편안 :)"
   ]
  },
  {
   "cell_type": "markdown",
   "metadata": {},
   "source": [
    "### map 이와의 반복형 함수 : filter, reduce\n",
    "* filter\n",
    "* * *"
   ]
  },
  {
   "cell_type": "code",
   "execution_count": 36,
   "metadata": {},
   "outputs": [
    {
     "name": "stdout",
     "output_type": "stream",
     "text": [
      "[2, 4, 6, 8, 10]\n"
     ]
    }
   ],
   "source": [
    "a = list(range(1,11))\n",
    "a = list(filter(lambda t:t%2==0,a)) # 해당 조건에 만족하는 value만 살려준다\n",
    "print(a)"
   ]
  },
  {
   "cell_type": "markdown",
   "metadata": {},
   "source": [
    "*  reduce\n",
    "* * *\n",
    "reduce(집계 함수, 순회 가능한 데이터[, 초기값])"
   ]
  },
  {
   "cell_type": "code",
   "execution_count": 37,
   "metadata": {},
   "outputs": [
    {
     "name": "stdout",
     "output_type": "stream",
     "text": [
      "10\n",
      "55\n"
     ]
    }
   ],
   "source": [
    "from functools import reduce\n",
    "li = list(range(1,11))\n",
    "print(reduce(lambda a,b: a if a > b else b ,li))\n",
    "print(reduce(lambda a,b: a+b, li, 0))"
   ]
  },
  {
   "cell_type": "markdown",
   "metadata": {},
   "source": [
    "### lambda 함수 익명함수 생성\n",
    "### 기본형\n",
    "* * *\n",
    "#### lambda 매개변수 : 매개변수를 이용한 표현식"
   ]
  },
  {
   "cell_type": "code",
   "execution_count": 38,
   "metadata": {},
   "outputs": [
    {
     "name": "stdout",
     "output_type": "stream",
     "text": [
      "7\n",
      "14\n",
      "14\n"
     ]
    }
   ],
   "source": [
    "add = lambda a,b : a+b\n",
    "print(add(3,4))\n",
    "\n",
    "def inc(n):\n",
    "    return lambda x : x+n\n",
    "print(inc(2)(12)) # 이것을 어떻게 이해해야 될까?\n",
    "t = inc(2)\n",
    "print(t(12)) # 두개를 이어쓰면 위의 코드가 나오게 된다"
   ]
  },
  {
   "cell_type": "markdown",
   "metadata": {},
   "source": [
    "### + map과의 collaboration!!!\n",
    "#### map(func, iterable 객체)"
   ]
  },
  {
   "cell_type": "code",
   "execution_count": 39,
   "metadata": {},
   "outputs": [
    {
     "name": "stdout",
     "output_type": "stream",
     "text": [
      "[1, 2, 0, 4]\n",
      "[1, 2, 0, 4]\n"
     ]
    }
   ],
   "source": [
    "a = [1,2,3,4]\n",
    "b = [1,1,0,1]\n",
    "print(list(map(lambda a,b:a*b,a,b))) # 이것은 무엇과 같다 하면....\n",
    "\n",
    "def f(a,b):\n",
    "    return a*b\n",
    "\n",
    "print(list(map(f,a,b))) # 이것이 남아있을만 한 가치가 있는 함수 인지 생각해보자!"
   ]
  },
  {
   "cell_type": "markdown",
   "metadata": {},
   "source": [
    "* 응용 예시 (연습문제 모음 3 AD)\n",
    "* 가장 많이 받은 학생의 명수를 구하고 그 학생을 출력하는 문제\n",
    "* 이 때, dict의 value를 조사하기 위해서 lambda 함수를 만들어서 해결"
   ]
  },
  {
   "cell_type": "code",
   "execution_count": 40,
   "metadata": {},
   "outputs": [
    {
     "name": "stdout",
     "output_type": "stream",
     "text": [
      "{2203: 4, 2101: 3, 2110: 3}\n",
      "2203 4\n"
     ]
    }
   ],
   "source": [
    "a = [2110,2110,2101,2101,2101,2203,2203,2203,2203,2110]\n",
    "b = dict() # b = {}와 같다\n",
    "for i in set(a):\n",
    "    b[i] = a.count(i)\n",
    "print(b)\n",
    "c = max(b,key=lambda t:b[t])# 가장 큰 value의 key를 구하고 싶다\n",
    "print(c,b[c])"
   ]
  },
  {
   "cell_type": "code",
   "execution_count": 41,
   "metadata": {},
   "outputs": [
    {
     "name": "stdout",
     "output_type": "stream",
     "text": [
      "<class 'int'>\n"
     ]
    }
   ],
   "source": [
    "from math import gcd\n",
    "def f(x,y):\n",
    "    return int(x*y/gcd(x,y))\n",
    "print(type(f(4,1)))"
   ]
  },
  {
   "cell_type": "markdown",
   "metadata": {},
   "source": [
    "### 기초 함수 관련 정리"
   ]
  },
  {
   "cell_type": "code",
   "execution_count": 42,
   "metadata": {},
   "outputs": [
    {
     "name": "stdout",
     "output_type": "stream",
     "text": [
      "3\n",
      "2\n",
      "\n",
      "0\n",
      "-1\n",
      "\n",
      "False\n",
      "True\n",
      "\n",
      "[0, 1, 2, 3]\n",
      "[33, 42]\n",
      "\n",
      "[(0, 1), (1, 2), (3, 0), (5, 1), (5, 2)]\n",
      "[(3, 0), (0, 1), (5, 1), (1, 2), (5, 2)]\n",
      "[(5, 1), (5, 2), (3, 0), (1, 2), (0, 1)]\n",
      "\n",
      "You_can_count_me_how_many_times,_more_and_more\n"
     ]
    }
   ],
   "source": [
    "li = [1,1,1,1,2,2,2,3,3,3]\n",
    "st = \"You can count me how many times, more and more\"\n",
    "\n",
    "# 특정 문자열, 요소 개수 구하기\n",
    "print(li.count(3))\n",
    "print(st.count(\"more\"))\n",
    "print()\n",
    "\n",
    "# 해당 문자열의 위치 구하기\n",
    "print(li.index(1)) # 중복이면 맨 처음 꺼\n",
    "print(st.find(\"@\")) # 없으면 -1 반환\n",
    "print()\n",
    "\n",
    "# 해댱안에 존재하는지 확인\n",
    "print(0 in li) # 둘다 in 사용\n",
    "print(\"me\" in st)\n",
    "print()\n",
    "\n",
    "# 해당 문자열의 모든 위치 구하기\n",
    "print([ind for ind,val in enumerate(li) if val == 1])\n",
    "# enumerate 함수 index와 value를 각각반환하는 함수\n",
    "print([i for i in range(len(st)) if st.find(\"more\", i) == i])\n",
    "# find(iterable, start) start : 찾기 시작하는 위치\n",
    "\n",
    "# 역순으로 만들기\n",
    "li.reverse() # 반환 형태 None\n",
    "li = li[::-1]\n",
    "st = st[::-1]\n",
    "print()\n",
    "\n",
    "# 정렬에 대한 고찰 sort와 sorted\n",
    "# sort는 None 반환, sorted는 반환\n",
    "tu = [(1, 2), (0, 1), (5, 1), (5, 2), (3, 0)]\n",
    "print(sorted(tu)) # 없으면 그냥 정렬\n",
    "print(sorted(tu, key = lambda t : t[1])) # 튜플의 2번째 값으로 비교!\n",
    "print(sorted(tu, key = lambda t : (-t[0], t[1])))\n",
    "# 처음에는 튜플의 1번째 역순으로 비교하고, 그 후에 같은것 끼리는 튜플의 2번째 값으로 정렬\n",
    "# -는 역순의 비교를 의미한다\n",
    "print()\n",
    "\n",
    "# 문자열의 변경 replace(target,change)\n",
    "print(st[::-1].replace(\" \",\"_\"))"
   ]
  },
  {
   "cell_type": "markdown",
   "metadata": {},
   "source": [
    "### 맨 처음에 packing해서 받으면 안된다"
   ]
  },
  {
   "cell_type": "code",
   "execution_count": 43,
   "metadata": {},
   "outputs": [
    {
     "name": "stdout",
     "output_type": "stream",
     "text": [
      "TypeError: f() missing 1 required keyword-only argument: 'y'\n",
      "-1 -2 -3 "
     ]
    }
   ],
   "source": [
    "def f(*x,y):\n",
    "    for i in x:\n",
    "        print(i*y)\n",
    "def g(y,*x):\n",
    "    for i in x:\n",
    "        print(i*y,end=\" \")\n",
    "# f(1,2,3,4)\n",
    "print(\"TypeError: f() missing 1 required keyword-only argument: 'y'\")\n",
    "g(-1,1,2,3)"
   ]
  },
  {
   "cell_type": "code",
   "execution_count": 44,
   "metadata": {},
   "outputs": [],
   "source": [
    "class circle:\n",
    "    def __init__(self,c,lc,x=0,y=0,r=5): # self 넣는 것을 유의하자\n",
    "        self.x = x\n",
    "        self.y = y\n",
    "        self.radius = r\n",
    "        self.color = c\n",
    "        self.line_color = lc\n",
    "        # 값이 정해진 변수가 맨 앞으로 와야한다 아니면 Error\n",
    "\n",
    "c1 = circle('o','r') # 어짜피 안정해줘도 되는거는 뒤에서 결정하라 하면 되니까\n",
    "c2 = circle('b','r',y=10,x=5) # 인자 순서가 다르면 뒤에거는 정해지는 것"
   ]
  },
  {
   "cell_type": "code",
   "execution_count": 45,
   "metadata": {},
   "outputs": [
    {
     "name": "stdout",
     "output_type": "stream",
     "text": [
      "TypeError: how_many() missing 1 required positional argument: 'self'\n",
      "\n",
      "객체는 10개 있어요!!\n"
     ]
    }
   ],
   "source": [
    "class example:\n",
    "    cnt = 0\n",
    "    def __init__(self):\n",
    "        example.cnt += 1\n",
    "    def how_many(self):\n",
    "        print(\"객체는 %d개 있어요!!\" % example.cnt)\n",
    "for i in range(10):\n",
    "    t = example()\n",
    "# example.how_many() Error!\n",
    "print(\"TypeError: how_many() missing 1 required positional argument: 'self'\\n\")\n",
    "example.how_many(0)\n",
    "# 만약 del을 지정하지 않는다면 어떻게 될까?\n",
    "# self = 0 에 지정해주면 어떻게 될까?\n",
    "# ==> 무조건 어떠한 객체를 지정해야할까?"
   ]
  },
  {
   "cell_type": "code",
   "execution_count": 46,
   "metadata": {},
   "outputs": [
    {
     "name": "stdout",
     "output_type": "stream",
     "text": [
      "객체는 1개 있어요!!\n",
      "객체는 2개 있어요!!\n",
      "객체는 3개 있어요!!\n",
      "\n",
      "객체는 3개 있어요!!\n"
     ]
    }
   ],
   "source": [
    "class example:\n",
    "    cnt = 0\n",
    "    def __init__(self):\n",
    "        example.cnt += 1\n",
    "    def how_many(self=0):\n",
    "        print(\"객체는 %d개 있어요!!\" % example.cnt)\n",
    "for i in range(3):\n",
    "    t = example()\n",
    "    t.how_many()\n",
    "print()\n",
    "example.how_many()"
   ]
  },
  {
   "cell_type": "markdown",
   "metadata": {},
   "source": [
    "## 중간고사 대비 (10/23)"
   ]
  },
  {
   "cell_type": "code",
   "execution_count": 47,
   "metadata": {},
   "outputs": [
    {
     "name": "stdout",
     "output_type": "stream",
     "text": [
      "['1', '2', '3']\n",
      "['1', '2 3']\n",
      "['1:2:3']\n",
      "['1', '2', '3']\n",
      "['1', '2', '3']\n",
      "['1', '', '', '', '', '', '2', '3']\n"
     ]
    }
   ],
   "source": [
    "# split 함수\n",
    "a = \"1 2 3\"\n",
    "print(a.split())\n",
    "print(a.split(maxsplit=1))\n",
    "\n",
    "b = \"1:2:3\"\n",
    "print(b.split())\n",
    "print(b.split(sep=\":\")) # \":\"와 동일\n",
    "\n",
    "c = \"1      2 3\"\n",
    "print(c.split())\n",
    "print(c.split(\" \"))"
   ]
  },
  {
   "cell_type": "code",
   "execution_count": 48,
   "metadata": {},
   "outputs": [
    {
     "name": "stdout",
     "output_type": "stream",
     "text": [
      "You need Python\n",
      "You need Python\n"
     ]
    }
   ],
   "source": [
    "a = \"You need Python\"\n",
    "print(a[:20])\n",
    "print(a[-20:])\n",
    "# print(a[20]) string index out of range"
   ]
  },
  {
   "cell_type": "code",
   "execution_count": 49,
   "metadata": {},
   "outputs": [
    {
     "name": "stdout",
     "output_type": "stream",
     "text": [
      "[0, 1, 2, 3, 4]\n",
      "[0, 1, 2, 3]\n",
      "[0, 1, 2]\n",
      "0\n"
     ]
    }
   ],
   "source": [
    "# list 함수\n",
    "a = list(range(1,5))\n",
    "a.insert(0,0) # insert(index,object)\n",
    "print(a)\n",
    "\n",
    "a.remove(4) # remove(object)\n",
    "print(a)\n",
    "\n",
    "a.pop()\n",
    "print(a)\n",
    "\n",
    "print(a.count(3)) # count(object)"
   ]
  },
  {
   "cell_type": "code",
   "execution_count": 50,
   "metadata": {},
   "outputs": [
    {
     "name": "stdout",
     "output_type": "stream",
     "text": [
      "{1, 2, 3, 4}\n",
      "{1, 2, 3, 4, 5, 6, 7}\n",
      "{1, 2, 3, 4, 5, 6}\n"
     ]
    }
   ],
   "source": [
    "# set\n",
    "a = set(range(1,4))\n",
    "a.add(4) # append는 맨 뒤에 넣을 때 사용하는 것\n",
    "print(a)\n",
    "\n",
    "a.update([5,6,7]) # 사실은 iterable하면 되는 듯\n",
    "print(a)\n",
    "\n",
    "a.remove(7) # remove(object)\n",
    "print(a)"
   ]
  },
  {
   "cell_type": "code",
   "execution_count": 51,
   "metadata": {},
   "outputs": [
    {
     "name": "stdout",
     "output_type": "stream",
     "text": [
      "{1: 20}\n",
      "{1: 20, 2: 30, 3: 40}\n",
      "{2: 30, 3: 40}\n",
      "None\n",
      "False\n",
      "True\n"
     ]
    }
   ],
   "source": [
    "# dictionary\n",
    "a = {}\n",
    "a[1] = 20 # key : 10이고 value가 20인 데이터\n",
    "print(a)\n",
    "\n",
    "a[2] = 30\n",
    "a[3] = 40\n",
    "print(a)\n",
    "\n",
    "del a[1] # key가 1인 데이터 삭제\n",
    "print(a)\n",
    "\n",
    "if 10 in a: # dictionary안에 10이 있는가\n",
    "    del a[10] # 없으니까 실행 안됨 ==> 실행하면 KeyError\n",
    "\n",
    "# print(a[1]) KeyError 출력\n",
    "print(a.get(1)) # Error는 나오지 않음 걍 None\n",
    "\n",
    "print(1 in a) # 해당 key가 dictionary에 있는지 확인\n",
    "print(2 in a)"
   ]
  },
  {
   "cell_type": "markdown",
   "metadata": {},
   "source": [
    "## 변수\n",
    "- 객체에 접근할 수 있는 이름\n",
    "- C언어와 달리 미리 type 지정 필요가 없음 (그냥 쓰면 됨)\n",
    "* * *\n",
    "#### 변수 생성"
   ]
  },
  {
   "cell_type": "code",
   "execution_count": 52,
   "metadata": {},
   "outputs": [],
   "source": [
    "a = 10\n",
    "b = 'sasa'"
   ]
  },
  {
   "cell_type": "markdown",
   "metadata": {},
   "source": [
    "#### 객체주소 확인 "
   ]
  },
  {
   "cell_type": "code",
   "execution_count": 53,
   "metadata": {},
   "outputs": [
    {
     "name": "stdout",
     "output_type": "stream",
     "text": [
      "140725233137728\n",
      "140725233137728\n"
     ]
    }
   ],
   "source": [
    "print(id(10))\n",
    "print(id(a)) # a는 사실 10이라는 객체를 가리키고 있었던 것임"
   ]
  },
  {
   "cell_type": "markdown",
   "metadata": {},
   "source": [
    "### 식별자 명명 규칙\n",
    "* * *\n",
    "#### 식별자 : 변수 또는 함수 등 사용자가 이름을 정할 때 사용하는 단어\n",
    "- 키워드 사용 불가\n",
    "- 특수문자는 언더바(_)만 허용\n",
    "- 숫자로 시작할 수 없음\n",
    "- 공백 포함할 수 없음\n",
    "- 알파벳 사용이 관례\n",
    "- 의미있는 단어로 지정함"
   ]
  },
  {
   "cell_type": "markdown",
   "metadata": {},
   "source": [
    "## 조건문\n",
    "* * *\n",
    "`if <조건식>:\n",
    "    처리할 내용 ==> Tab으로 구분한다는 것에 유의`"
   ]
  },
  {
   "cell_type": "markdown",
   "metadata": {},
   "source": [
    "### 삼항연산자\n",
    "- 조건에 따라서 처리를 간단하게 할 때 사용"
   ]
  },
  {
   "cell_type": "code",
   "execution_count": 54,
   "metadata": {},
   "outputs": [
    {
     "name": "stdout",
     "output_type": "stream",
     "text": [
      "odd\n"
     ]
    }
   ],
   "source": [
    "# example\n",
    "a = 3\n",
    "print((\"odd\" if a%2 else \"even\"))"
   ]
  },
  {
   "cell_type": "markdown",
   "metadata": {},
   "source": [
    "## 반복문\n",
    "* * *\n",
    "### while\n",
    "- <조건식> 이 참일 동안 반복처리할 내용을 반복함\n",
    "- while 문에 포함되는 내용은 { } 대신 들여쓰기로 구분함에 유의\n",
    "### for\n",
    "- <iterable 객체>에서 요소를 순서대로 <변수>에 할당함\n",
    "- <iterable 객체>에서 할당한 요소가 있는 동안 반복 처리할 수 있음"
   ]
  },
  {
   "cell_type": "code",
   "execution_count": 55,
   "metadata": {},
   "outputs": [
    {
     "name": "stdout",
     "output_type": "stream",
     "text": [
      "5\n",
      "4\n",
      "3\n",
      "2\n",
      "1\n"
     ]
    }
   ],
   "source": [
    "# while example\n",
    "a = 5\n",
    "while a > 0: # 해당 부분이 참일때까지 실행\n",
    "    print(a)\n",
    "    a -= 1"
   ]
  },
  {
   "cell_type": "markdown",
   "metadata": {},
   "source": [
    "### range : 등차수열 생성하는 객체\n",
    "#### 사용법 : `range(<start>,<stop>,<step>)`"
   ]
  },
  {
   "cell_type": "code",
   "execution_count": 56,
   "metadata": {},
   "outputs": [
    {
     "name": "stdout",
     "output_type": "stream",
     "text": [
      "0 1 2 3 4 \n",
      "1 3 5 \n",
      "7 4 \n"
     ]
    }
   ],
   "source": [
    "# for example\n",
    "def f(a):\n",
    "    t = False\n",
    "    for i in a: print(i,end=\" \"); t = True # This is exapmle lol\n",
    "    if t: print()\n",
    "        \n",
    "f(range(5)) # 0 ~ 4 까지 출력\n",
    "f(range(7,2)) # stop이 더 작으면 출력 되지 않음\n",
    "f(range(1,7,2)) # stop 직전까지 가므로 7은 출력되지 않음\n",
    "f(range(7,1,-3)) # 이래서 등차수열 ㅇㅅㅇ;;"
   ]
  },
  {
   "cell_type": "markdown",
   "metadata": {},
   "source": [
    "### break & continue\n",
    "* * *\n",
    "- ___break___ : loop 탈출\n",
    "- ___continue___ : 다시 loop의 처음으로"
   ]
  },
  {
   "cell_type": "code",
   "execution_count": 57,
   "metadata": {},
   "outputs": [
    {
     "name": "stdout",
     "output_type": "stream",
     "text": [
      "1 2 4 5 "
     ]
    }
   ],
   "source": [
    "# example\n",
    "a = 0\n",
    "while True:\n",
    "    if a == 5: break\n",
    "    a += 1\n",
    "    if a == 3: continue\n",
    "    print(a,end=\" \")"
   ]
  },
  {
   "cell_type": "markdown",
   "metadata": {},
   "source": [
    "### list 초기화\n",
    "---\n",
    "- for문 이용하기\n",
    "- \\* (곱하기) 연산자 이용하기\n",
    "- list comprehension 사용"
   ]
  },
  {
   "cell_type": "code",
   "execution_count": 58,
   "metadata": {},
   "outputs": [],
   "source": [
    "# example\n",
    "a = []\n",
    "for i in range(5):\n",
    "    a.append(0)\n",
    "\n",
    "b = [0] * 10\n",
    "\n",
    "c = [0 for _ in range(5)] # list comprehension"
   ]
  },
  {
   "cell_type": "markdown",
   "metadata": {},
   "source": [
    "### Type 정리\n",
    "구분 | mutable <br>(변경가능) | iterable <br>(반복가능) | sequence <br>(순서있음) | 비고\n",
    "--- | :---: | :---: | :---: | ---\n",
    "숫자형 | X | X | X | 정수,실수,복소수\n",
    "str | X | O | O | 문자열\n",
    "list | O | O | O | 모든 객체 목록\n",
    "tuple | X | O | O | immutable 객체목록\n",
    "set | O | O | X | 집합\n",
    "dict | O | O | X | 사전\n",
    "range | X | O | O | 등차수열"
   ]
  },
  {
   "cell_type": "markdown",
   "metadata": {},
   "source": [
    "### 연산자 요약\n",
    "구분 | 연산자 | 적용대상\n",
    "--- | --- | ---\n",
    "산술 연산 | + , - , \\* , / , \\** , % , \\// | numeric types\n",
    "비교 연산 | >,>=,<,<=,==,!= | 좌우가 같은 type 또는 비교가능할 때\n",
    "객체 비교 | is, is not | 모든 객체\n",
    "비트 연산 | &, \\|, ^, ~ | int\n",
    "시프트 연산 | <<, >> | int"
   ]
  },
  {
   "cell_type": "markdown",
   "metadata": {},
   "source": [
    "### 기타 연산자\n",
    "---\n",
    "- 할당 연산자 : 왼쪽은 식별자, 오른쪽은 모든 객체\n",
    "- 연산 후 할당 : 할당 연산자를 사용가능한 객체 (증감 연산자다 없음에 유의)\n",
    "- 연결과 반복 ( + , \\* ) : `sequence type`"
   ]
  },
  {
   "cell_type": "code",
   "execution_count": 59,
   "metadata": {},
   "outputs": [
    {
     "name": "stdout",
     "output_type": "stream",
     "text": [
      "I love Python! \n",
      "Python! Python! \n"
     ]
    }
   ],
   "source": [
    "# exapmle\n",
    "\n",
    "a = \"I love \"\n",
    "b = \"Python! \"\n",
    "print(a+b) # 두개를 말 그대로 더함 (그래도 산술이랑은 다른거)\n",
    "print(b*2) # 해당 seq를 반복함"
   ]
  },
  {
   "cell_type": "markdown",
   "metadata": {},
   "source": [
    "### is 연산자에 대한 고찰\n",
    "---\n",
    "`is` checks for __identity__ - if the two variables point to the exact same object.\n",
    "\n",
    "`==` checks for __equality__ - if the two variables point at values are equal. That is, if they will act the same way in the same situations."
   ]
  },
  {
   "cell_type": "code",
   "execution_count": 60,
   "metadata": {},
   "outputs": [
    {
     "name": "stdout",
     "output_type": "stream",
     "text": [
      "True\n",
      "False\n"
     ]
    },
    {
     "name": "stderr",
     "output_type": "stream",
     "text": [
      "<>:4: SyntaxWarning: \"is\" with a literal. Did you mean \"==\"?\n",
      "<>:4: SyntaxWarning: \"is\" with a literal. Did you mean \"==\"?\n",
      "<ipython-input-60-c9c2cf550cad>:4: SyntaxWarning: \"is\" with a literal. Did you mean \"==\"?\n",
      "  print(3 is 3.000) # 값하고 객체의 종류도 같아야지 출력\n"
     ]
    }
   ],
   "source": [
    "# is exapmle\n",
    "\n",
    "print(3 == 3.000) # 그냥 값이 같으면 True 출력\n",
    "print(3 is 3.000) # 값하고 객체의 종류도 같아야지 출력"
   ]
  },
  {
   "cell_type": "markdown",
   "metadata": {},
   "source": [
    "### SyntaxWarning\n",
    "---\n",
    "- Python 3.8 부터는 is를 string이나 number에 대해서 비교를 하면 출력함\n",
    "- 아래와 같은 예시 상황을 방지하기 위함"
   ]
  },
  {
   "cell_type": "code",
   "execution_count": 61,
   "metadata": {},
   "outputs": [
    {
     "name": "stdout",
     "output_type": "stream",
     "text": [
      "x is 256!!\n"
     ]
    },
    {
     "name": "stderr",
     "output_type": "stream",
     "text": [
      "<>:2: SyntaxWarning: \"is\" with a literal. Did you mean \"==\"?\n",
      "<>:6: SyntaxWarning: \"is\" with a literal. Did you mean \"==\"?\n",
      "<>:2: SyntaxWarning: \"is\" with a literal. Did you mean \"==\"?\n",
      "<>:6: SyntaxWarning: \"is\" with a literal. Did you mean \"==\"?\n",
      "<ipython-input-61-0bd4a6a92e57>:2: SyntaxWarning: \"is\" with a literal. Did you mean \"==\"?\n",
      "  if x is 256:\n",
      "<ipython-input-61-0bd4a6a92e57>:6: SyntaxWarning: \"is\" with a literal. Did you mean \"==\"?\n",
      "  if x is 257:\n"
     ]
    }
   ],
   "source": [
    "x = int(256.0)\n",
    "if x is 256:\n",
    "    print(\"x is 256!!\")\n",
    "    \n",
    "x = int(257.0)\n",
    "if x is 257:\n",
    "    print(\"x is 257!!\") # -5 부터 256 까지는 객체를 미리 생성한다"
   ]
  },
  {
   "cell_type": "markdown",
   "metadata": {},
   "source": [
    "- Python은 성능을 위해서 -5 부터 256까지의 객체를 미리 생성한다\n",
    "- 따라서 해당 범위 밖의 것을 위와 같이 생성하면 is 가 성립되지 않는다  \n",
    "[출처 사이트](https://adamj.eu/tech/2020/01/21/why-does-python-3-8-syntaxwarning-for-is-literal/)"
   ]
  },
  {
   "cell_type": "markdown",
   "metadata": {},
   "source": [
    "### 기타 연산자 2\n",
    "---\n",
    "- 소속 여부 ( in , not in ) : `iterable type`"
   ]
  },
  {
   "cell_type": "code",
   "execution_count": 62,
   "metadata": {},
   "outputs": [
    {
     "name": "stdout",
     "output_type": "stream",
     "text": [
      "True\n",
      "False\n"
     ]
    }
   ],
   "source": [
    "# example\n",
    "\n",
    "a = list(range(1,10))\n",
    "print(9 in a)\n",
    "print(10 in a)"
   ]
  },
  {
   "cell_type": "markdown",
   "metadata": {},
   "source": [
    "## 함수\n",
    "#### 특정 기능을 수행하는 하나의 단위\n",
    "+ 기본 형식  \n",
    "``` Python\n",
    "def 함수명( [매개변수] ):\n",
    "처리할 내용\n",
    "…\n",
    "[return 값]\n",
    "```\n",
    "\n",
    "### 유의사항\n",
    "---\n",
    "- 처리할 내용은 들여쓰기로 구분\n",
    "- C언어와 달리 리턴타입을 별도로 지정하지 않음에 유의\n",
    "- 매개변수도 타입을 미리 지정하지 않음\n",
    "- 매개변수를 통해 받은 입력을 이용하여 처리하고 return을 통해 결과를 알려주는 형태임"
   ]
  },
  {
   "cell_type": "code",
   "execution_count": 63,
   "metadata": {},
   "outputs": [
    {
     "name": "stdout",
     "output_type": "stream",
     "text": [
      "Error : positional argument follows keyword argument\n",
      "[3, 4, 5, 6]\n"
     ]
    }
   ],
   "source": [
    "def f(a,b,*arg,pl=0,mu=1): # 일반, 가변, 디폴트\n",
    "    t = [a ,b] + list(arg)\n",
    "    print(list(map(lambda x:pl+mu*x,t)))\n",
    "# f(pl=2,1,2,3,4)\n",
    "print(\"Error : positional argument follows keyword argument\")\n",
    "f(1,2,3,4,pl=2) # 뒤에 두개는 가변 앞에는 각각 a,b에 들어간 것"
   ]
  },
  {
   "cell_type": "markdown",
   "metadata": {},
   "source": [
    "## 클래스\n",
    "### 기본 형식\n",
    "---\n",
    "``` Python\n",
    "class 클래스이름 (상속받고자 하는 클래스명) :\n",
    "    def __init__(self ,매개변수들): # 멤버필드선언 및 초기화\n",
    "        self.변수명 = 매개변수\n",
    "    def 메소드들 # 그 외의 함수들`\n",
    "```"
   ]
  },
  {
   "cell_type": "code",
   "execution_count": 64,
   "metadata": {},
   "outputs": [
    {
     "name": "stdout",
     "output_type": "stream",
     "text": [
      "객체는 10개 있어요!!\n"
     ]
    }
   ],
   "source": [
    "class example:\n",
    "    cnt = 0\n",
    "    def __init__(self):\n",
    "        example.cnt += 1\n",
    "    def how_many(self=0):\n",
    "        print(\"객체는 %d개 있어요!!\" % example.cnt)\n",
    "    \"\"\"\n",
    "    def __del__(self): # 소멸자\n",
    "        example.cnt -= 1\n",
    "    \"\"\"\n",
    "        \n",
    "t = []\n",
    "\n",
    "for _ in range(10):\n",
    "    t.append(example())\n",
    "    \n",
    "del t[1] # del을 지정하지 않아서 삭제는 실제로 되도 안 세짐\n",
    "example.how_many() # 실제로는 9개 있음"
   ]
  },
  {
   "cell_type": "markdown",
   "metadata": {},
   "source": [
    "### 객체지향 패러다임\n",
    "- 양질의 소프트웨어를 제한된 자원(시간, 예산)으로 개발하기 어려움\n",
    "- 원인\n",
    "    + 사회 구조가 복잡해짐 ⇒ 소프트웨어 규모가 커지고 복잡해짐\n",
    "    + 하드웨어 기술 발전에 비해 소프트웨어 기술 발전이 느림  \n",
    "    ⇒ 하드웨어 비용 대비 소프트웨어 비용의 상승폭 증가"
   ]
  },
  {
   "cell_type": "markdown",
   "metadata": {},
   "source": [
    "#### 뒤 부분은 pdf 참고하시길 &#128513;"
   ]
  }
 ],
 "metadata": {
  "kernelspec": {
   "display_name": "Python 3",
   "language": "python",
   "name": "python3"
  },
  "language_info": {
   "codemirror_mode": {
    "name": "ipython",
    "version": 3
   },
   "file_extension": ".py",
   "mimetype": "text/x-python",
   "name": "python",
   "nbconvert_exporter": "python",
   "pygments_lexer": "ipython3",
   "version": "3.8.5"
  }
 },
 "nbformat": 4,
 "nbformat_minor": 4
}
