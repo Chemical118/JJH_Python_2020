{
 "cells": [
  {
   "cell_type": "markdown",
   "metadata": {},
   "source": [
    "Python 9/9\n",
    "============\n",
    "### type - 객체의 type을 리턴하는 함수\n",
    "* * *"
   ]
  },
  {
   "cell_type": "code",
   "execution_count": 1,
   "metadata": {},
   "outputs": [
    {
     "data": {
      "text/plain": [
       "int"
      ]
     },
     "execution_count": 1,
     "metadata": {},
     "output_type": "execute_result"
    }
   ],
   "source": [
    "type(123)"
   ]
  },
  {
   "cell_type": "markdown",
   "metadata": {},
   "source": [
    "### help - help 메세지를 보여주는 함수\n",
    "* * *"
   ]
  },
  {
   "cell_type": "code",
   "execution_count": 2,
   "metadata": {},
   "outputs": [
    {
     "name": "stdout",
     "output_type": "stream",
     "text": [
      "Help on built-in function print in module builtins:\n",
      "\n",
      "print(...)\n",
      "    print(value, ..., sep=' ', end='\\n', file=sys.stdout, flush=False)\n",
      "    \n",
      "    Prints the values to a stream, or to sys.stdout by default.\n",
      "    Optional keyword arguments:\n",
      "    file:  a file-like object (stream); defaults to the current sys.stdout.\n",
      "    sep:   string inserted between values, default a space.\n",
      "    end:   string appended after the last value, default a newline.\n",
      "    flush: whether to forcibly flush the stream.\n",
      "\n"
     ]
    }
   ],
   "source": [
    "help(print)"
   ]
  },
  {
   "cell_type": "markdown",
   "metadata": {},
   "source": [
    "### dir - 객체의 속성과 메소드를 리스트로 보여줌\n",
    "* * *"
   ]
  },
  {
   "cell_type": "code",
   "execution_count": 3,
   "metadata": {},
   "outputs": [
    {
     "data": {
      "text/plain": [
       "['__add__',\n",
       " '__class__',\n",
       " '__contains__',\n",
       " '__delattr__',\n",
       " '__dir__',\n",
       " '__doc__',\n",
       " '__eq__',\n",
       " '__format__',\n",
       " '__ge__',\n",
       " '__getattribute__',\n",
       " '__getitem__',\n",
       " '__getnewargs__',\n",
       " '__gt__',\n",
       " '__hash__',\n",
       " '__init__',\n",
       " '__init_subclass__',\n",
       " '__iter__',\n",
       " '__le__',\n",
       " '__len__',\n",
       " '__lt__',\n",
       " '__mod__',\n",
       " '__mul__',\n",
       " '__ne__',\n",
       " '__new__',\n",
       " '__reduce__',\n",
       " '__reduce_ex__',\n",
       " '__repr__',\n",
       " '__rmod__',\n",
       " '__rmul__',\n",
       " '__setattr__',\n",
       " '__sizeof__',\n",
       " '__str__',\n",
       " '__subclasshook__',\n",
       " 'capitalize',\n",
       " 'casefold',\n",
       " 'center',\n",
       " 'count',\n",
       " 'encode',\n",
       " 'endswith',\n",
       " 'expandtabs',\n",
       " 'find',\n",
       " 'format',\n",
       " 'format_map',\n",
       " 'index',\n",
       " 'isalnum',\n",
       " 'isalpha',\n",
       " 'isascii',\n",
       " 'isdecimal',\n",
       " 'isdigit',\n",
       " 'isidentifier',\n",
       " 'islower',\n",
       " 'isnumeric',\n",
       " 'isprintable',\n",
       " 'isspace',\n",
       " 'istitle',\n",
       " 'isupper',\n",
       " 'join',\n",
       " 'ljust',\n",
       " 'lower',\n",
       " 'lstrip',\n",
       " 'maketrans',\n",
       " 'partition',\n",
       " 'replace',\n",
       " 'rfind',\n",
       " 'rindex',\n",
       " 'rjust',\n",
       " 'rpartition',\n",
       " 'rsplit',\n",
       " 'rstrip',\n",
       " 'split',\n",
       " 'splitlines',\n",
       " 'startswith',\n",
       " 'strip',\n",
       " 'swapcase',\n",
       " 'title',\n",
       " 'translate',\n",
       " 'upper',\n",
       " 'zfill']"
      ]
     },
     "execution_count": 3,
     "metadata": {},
     "output_type": "execute_result"
    }
   ],
   "source": [
    "dir(str)"
   ]
  },
  {
   "cell_type": "code",
   "execution_count": 4,
   "metadata": {},
   "outputs": [
    {
     "name": "stdout",
     "output_type": "stream",
     "text": [
      "<class 'list'>\n",
      "True\n"
     ]
    }
   ],
   "source": [
    "print(type(dir(str)))\n",
    "print(\"split\" in dir(str))"
   ]
  },
  {
   "cell_type": "markdown",
   "metadata": {},
   "source": [
    "## 숫자형\n",
    "### 1. int (정수)\n",
    "### 2. float (실수)\n",
    "### 3. complex (복소수)"
   ]
  },
  {
   "cell_type": "code",
   "execution_count": 5,
   "metadata": {},
   "outputs": [
    {
     "data": {
      "text/plain": [
       "2"
      ]
     },
     "execution_count": 5,
     "metadata": {},
     "output_type": "execute_result"
    }
   ],
   "source": [
    "int(\"10\",2)"
   ]
  },
  {
   "cell_type": "markdown",
   "metadata": {},
   "source": [
    "Python 9/11\n",
    "============\n",
    "### 소수점의 신비"
   ]
  },
  {
   "cell_type": "code",
   "execution_count": 6,
   "metadata": {},
   "outputs": [
    {
     "name": "stdout",
     "output_type": "stream",
     "text": [
      "1.0\n",
      "1.0\n",
      "1.00\n"
     ]
    }
   ],
   "source": [
    "print(round(1.000,2))\n",
    "print(1.000)\n",
    "print(\"%.2f\" %1.000)"
   ]
  },
  {
   "cell_type": "markdown",
   "metadata": {},
   "source": [
    "### round 함수의 신비"
   ]
  },
  {
   "cell_type": "code",
   "execution_count": 7,
   "metadata": {},
   "outputs": [
    {
     "name": "stdout",
     "output_type": "stream",
     "text": [
      "2\n",
      "2\n"
     ]
    }
   ],
   "source": [
    "print(round(1.5))\n",
    "print(round(2.5))"
   ]
  },
  {
   "cell_type": "code",
   "execution_count": 8,
   "metadata": {},
   "outputs": [
    {
     "name": "stdout",
     "output_type": "stream",
     "text": [
      "Help on built-in function round in module builtins:\n",
      "\n",
      "round(number, ndigits=None)\n",
      "    Round a number to a given precision in decimal digits.\n",
      "    \n",
      "    The return value is an integer if ndigits is omitted or None.  Otherwise\n",
      "    the return value has the same type as the number.  ndigits may be negative.\n",
      "\n"
     ]
    }
   ],
   "source": [
    "help(round)"
   ]
  },
  {
   "cell_type": "markdown",
   "metadata": {},
   "source": [
    "### .5 인 경우에는 짝수에 간다\n",
    "### bool - 불 자료형\n",
    "* * *"
   ]
  },
  {
   "cell_type": "code",
   "execution_count": 9,
   "metadata": {},
   "outputs": [
    {
     "name": "stdout",
     "output_type": "stream",
     "text": [
      "True\n",
      "True\n",
      "False\n",
      "False\n"
     ]
    }
   ],
   "source": [
    "print(True ==  1)\n",
    "print(False == 0)\n",
    "print(True == -1)\n",
    "print(False == -1)"
   ]
  },
  {
   "cell_type": "markdown",
   "metadata": {},
   "source": [
    "### bool 객체 생성하기"
   ]
  },
  {
   "cell_type": "code",
   "execution_count": 10,
   "metadata": {},
   "outputs": [
    {
     "name": "stdout",
     "output_type": "stream",
     "text": [
      "True\n",
      "True\n",
      "False\n",
      "True\n",
      "False\n"
     ]
    }
   ],
   "source": [
    "print(bool(1))\n",
    "print(bool(3))\n",
    "print(bool(0))\n",
    "print(bool(\"I love Python\"))\n",
    "print(bool({}))"
   ]
  },
  {
   "cell_type": "markdown",
   "metadata": {},
   "source": [
    "### JJH 예상 문제"
   ]
  },
  {
   "cell_type": "code",
   "execution_count": 11,
   "metadata": {},
   "outputs": [
    {
     "name": "stdout",
     "output_type": "stream",
     "text": [
      "True False False True\n"
     ]
    }
   ],
   "source": [
    "a, b = True, False\n",
    "c, d = a == b, a!=b\n",
    "print(a,b,c,d)"
   ]
  },
  {
   "cell_type": "markdown",
   "metadata": {},
   "source": [
    "### 신비한 Python의 세계"
   ]
  },
  {
   "cell_type": "code",
   "execution_count": 12,
   "metadata": {},
   "outputs": [
    {
     "name": "stdout",
     "output_type": "stream",
     "text": [
      "False\n",
      "True\n",
      "False\n"
     ]
    }
   ],
   "source": [
    "print(\"a\" == \"ab\")\n",
    "print(\"a\" < \"ba\")\n",
    "print(\"a\" < \"A\") # 아스키 코드"
   ]
  },
  {
   "cell_type": "code",
   "execution_count": 13,
   "metadata": {},
   "outputs": [
    {
     "name": "stdout",
     "output_type": "stream",
     "text": [
      "True\n",
      "False\n"
     ]
    }
   ],
   "source": [
    "a, b = 3, 3.0\n",
    "print(a==b)\n",
    "print(a is b)"
   ]
  },
  {
   "cell_type": "markdown",
   "metadata": {},
   "source": [
    "### id : 유사 포인터"
   ]
  },
  {
   "cell_type": "code",
   "execution_count": 14,
   "metadata": {},
   "outputs": [
    {
     "name": "stdout",
     "output_type": "stream",
     "text": [
      "140708297979744\n",
      "True\n",
      "False\n",
      "True\n"
     ]
    }
   ],
   "source": [
    "print(id(3))\n",
    "a = 3\n",
    "b = 3.0\n",
    "print(id(a) == id(3))\n",
    "print(id(a) == id(3.0))\n",
    "c = \"!\"\n",
    "print(id(\"!\") == id(c))"
   ]
  },
  {
   "cell_type": "markdown",
   "metadata": {},
   "source": [
    "### Tuple의 함정"
   ]
  },
  {
   "cell_type": "code",
   "execution_count": 15,
   "metadata": {},
   "outputs": [
    {
     "name": "stdout",
     "output_type": "stream",
     "text": [
      "<class 'int'>\n"
     ]
    }
   ],
   "source": [
    "t = (1+1)\n",
    "print(type(t))"
   ]
  },
  {
   "cell_type": "markdown",
   "metadata": {},
   "source": [
    "### 한개의 원소를 가지는 Tuple을 만드려면 ,를 넣어야 한다"
   ]
  },
  {
   "cell_type": "code",
   "execution_count": 16,
   "metadata": {},
   "outputs": [
    {
     "name": "stdout",
     "output_type": "stream",
     "text": [
      "<class 'tuple'>\n"
     ]
    }
   ],
   "source": [
    "t = (1+1,)\n",
    "print(type(t))"
   ]
  },
  {
   "cell_type": "markdown",
   "metadata": {},
   "source": [
    "### 공백 set을 만드는 방법 "
   ]
  },
  {
   "cell_type": "code",
   "execution_count": 17,
   "metadata": {},
   "outputs": [
    {
     "name": "stdout",
     "output_type": "stream",
     "text": [
      "<class 'dict'>\n",
      "<class 'set'>\n"
     ]
    }
   ],
   "source": [
    "s = {}\n",
    "print(type(s))\n",
    "s = set()\n",
    "print(type(s))"
   ]
  },
  {
   "cell_type": "markdown",
   "metadata": {},
   "source": [
    "### Tupple에 대한 고찰"
   ]
  },
  {
   "cell_type": "code",
   "execution_count": 18,
   "metadata": {},
   "outputs": [
    {
     "name": "stdout",
     "output_type": "stream",
     "text": [
      "TypeError: tuple expected at most 1 argument, got 3\n"
     ]
    }
   ],
   "source": [
    "# t = tuple(1,2,3)\n",
    "print(\"TypeError: tuple expected at most 1 argument, got 3\") # Error 발생!"
   ]
  },
  {
   "cell_type": "code",
   "execution_count": 19,
   "metadata": {},
   "outputs": [
    {
     "name": "stdout",
     "output_type": "stream",
     "text": [
      "('I', 'love', 'Python!')\n"
     ]
    }
   ],
   "source": [
    "t = tuple(range(10))\n",
    "t = tuple(\"I love Python!\".split())\n",
    "print(t)"
   ]
  },
  {
   "cell_type": "markdown",
   "metadata": {},
   "source": [
    "### 반복 가능한 객체만이 들어가야 한다"
   ]
  },
  {
   "cell_type": "code",
   "execution_count": 20,
   "metadata": {},
   "outputs": [
    {
     "name": "stdout",
     "output_type": "stream",
     "text": [
      "0\n",
      "1\n",
      "2\n",
      "3\n",
      "4\n",
      "5\n",
      "6\n",
      "7\n",
      "8\n",
      "9\n",
      "StopIteration\n"
     ]
    }
   ],
   "source": [
    "it = range(10).__iter__()\n",
    "for _ in range(10):\n",
    "    print(it.__next__())\n",
    "print(\"StopIteration\")"
   ]
  },
  {
   "cell_type": "markdown",
   "metadata": {},
   "source": [
    "### 파이썬의 신비"
   ]
  },
  {
   "cell_type": "code",
   "execution_count": 21,
   "metadata": {},
   "outputs": [
    {
     "name": "stdout",
     "output_type": "stream",
     "text": [
      "Error!\n"
     ]
    }
   ],
   "source": [
    "# print = 10\n",
    "print(\"Error!\") #원래는 Error 발생"
   ]
  },
  {
   "cell_type": "markdown",
   "metadata": {},
   "source": [
    "### 파이썬 숏코딩의 신비"
   ]
  },
  {
   "cell_type": "code",
   "execution_count": 22,
   "metadata": {},
   "outputs": [
    {
     "name": "stdout",
     "output_type": "stream",
     "text": [
      "0\n",
      "1\n",
      "2\n",
      "3\n",
      "4\n",
      "5\n",
      "6\n",
      "7\n",
      "8\n",
      "9\n"
     ]
    }
   ],
   "source": [
    "print(*list(range(10)),sep=\"\\n\")"
   ]
  },
  {
   "cell_type": "code",
   "execution_count": 23,
   "metadata": {},
   "outputs": [
    {
     "name": "stdout",
     "output_type": "stream",
     "text": [
      "1 2 4 5\n",
      "\n",
      "2 4\n",
      "\n",
      "odd even even odd\n"
     ]
    }
   ],
   "source": [
    "a = [1,2,4,5]\n",
    "print(*[i for i in a])\n",
    "print()\n",
    "print(*[int(i) for i in a if int(i) % 2 == 0 ])\n",
    "print()\n",
    "print(*[\"even\" if int(i) % 2 == 0 else \"odd\" for i in a])"
   ]
  },
  {
   "cell_type": "markdown",
   "metadata": {},
   "source": [
    "### 숏코딩의 세계\n",
    "#### 1. join 함수를 이용하자"
   ]
  },
  {
   "cell_type": "code",
   "execution_count": 24,
   "metadata": {},
   "outputs": [
    {
     "name": "stdout",
     "output_type": "stream",
     "text": [
      "0 1 2 3 4 5 6 7 8 9\n",
      "0 1 2 3 4 5 6 7 8 9\n"
     ]
    }
   ],
   "source": [
    "l = list(range(10))\n",
    "print(*l)\n",
    "print(\" \".join(map(str,l))) # int로 하면 터진다!"
   ]
  },
  {
   "cell_type": "markdown",
   "metadata": {},
   "source": [
    "#### 2. eval을 이용하자 (feat. join 함수)"
   ]
  },
  {
   "cell_type": "code",
   "execution_count": 25,
   "metadata": {},
   "outputs": [
    {
     "name": "stdout",
     "output_type": "stream",
     "text": [
      "120\n",
      "120\n"
     ]
    }
   ],
   "source": [
    "a = list(range(1,6)) # 리스트의 총 곱을 알고 싶다\n",
    "ans = 1\n",
    "for i in a: # 간단한 for 문을 이용해서 구할 수 있다\n",
    "    ans *= i \n",
    "print(ans)\n",
    "print(eval(\"*\".join(map(str,a)))) # join, eval 함수를 응용해보자!"
   ]
  },
  {
   "cell_type": "markdown",
   "metadata": {},
   "source": [
    "## Python 9/28\n",
    "### 파이썬 함수의 신비"
   ]
  },
  {
   "cell_type": "code",
   "execution_count": 26,
   "metadata": {},
   "outputs": [],
   "source": [
    "def f(x):\n",
    "    print(\"I love Python!\")\n",
    "    # return 1"
   ]
  },
  {
   "cell_type": "markdown",
   "metadata": {},
   "source": [
    "#### 함수의 리턴 타입, 매개변수 타입은 미리 지정되지 않는다\n",
    "#### 각각의 내용들은 Tab으로 구분\n",
    "#### 매개변수로 무언가를 실행하고 그것을 반환해준다\n",
    "* * *\n",
    "* ###  가변 매개변수"
   ]
  },
  {
   "cell_type": "code",
   "execution_count": 27,
   "metadata": {},
   "outputs": [
    {
     "name": "stdout",
     "output_type": "stream",
     "text": [
      "45\n",
      "10\n",
      "45\n",
      "10\n"
     ]
    }
   ],
   "source": [
    "def adds(*args):\n",
    "    sum = 0\n",
    "    for i in args: \n",
    "        sum+=i\n",
    "    return sum\n",
    "\n",
    "def add(args):\n",
    "    sum = 0\n",
    "    for i in args:\n",
    "        sum+=i\n",
    "    return sum\n",
    "\n",
    "print(add(list(range(10))))\n",
    "print(add((1,2,3,4)))\n",
    "print(adds(*list(range(10)))) # 리스트의 unpacking에 유의하자\n",
    "print(adds(1,2,3,4)) # 2번째와의 차이를 보자, 인자가 튜플인지 여러개"
   ]
  },
  {
   "cell_type": "markdown",
   "metadata": {},
   "source": [
    "* ###  리턴값이 여러개 인 경우"
   ]
  },
  {
   "cell_type": "code",
   "execution_count": 28,
   "metadata": {},
   "outputs": [
    {
     "name": "stdout",
     "output_type": "stream",
     "text": [
      "<class 'tuple'>\n",
      "(5, 1, 6, 1.5)\n",
      "\n",
      "5\n",
      "1\n",
      "6\n",
      "1.5\n"
     ]
    }
   ],
   "source": [
    "def calc(a,b):\n",
    "    return a+b,a-b,a*b,round(a/b,2)\n",
    "print(type(calc(3,2)))\n",
    "print(calc(3,2))\n",
    "print()\n",
    "print(*calc(3,2),sep=\"\\n\") # tuple의 unpacking"
   ]
  },
  {
   "cell_type": "markdown",
   "metadata": {},
   "source": [
    "* ###  매개변수에 초기값 지정"
   ]
  },
  {
   "cell_type": "code",
   "execution_count": 29,
   "metadata": {},
   "outputs": [
    {
     "name": "stdout",
     "output_type": "stream",
     "text": [
      "good morning everyone\n",
      "good luck everyone\n",
      "good luck \n",
      "good morning ?\n"
     ]
    }
   ],
   "source": [
    "def hello(time=\"morning\",target=\"everyone\"):\n",
    "    print(\"good\",time,target)\n",
    "hello() # 값을 바꾸지 않으면 standard로\n",
    "hello(\"luck\") \n",
    "hello(\"luck\",\"\") # 인자가 지정 안되있으면 순서에 따라서\n",
    "hello(target=\"!!!\") # 인자를 지정하지 않으면 순서 상관 X"
   ]
  },
  {
   "cell_type": "markdown",
   "metadata": {},
   "source": [
    "## C언어의 추억\n",
    "* ### 전역변수와 지역변수\n",
    "* ### call by reference and value"
   ]
  },
  {
   "cell_type": "code",
   "execution_count": 30,
   "metadata": {},
   "outputs": [
    {
     "name": "stdout",
     "output_type": "stream",
     "text": [
      "20\n",
      "10\n",
      "NameError : name 'b' is not defined\n"
     ]
    }
   ],
   "source": [
    "a = 10\n",
    "def f():\n",
    "    b = a + 10 # 전역변수 접근 가능\n",
    "    print(b)\n",
    "f()\n",
    "print(a)\n",
    "# print(b)\n",
    "print(\"NameError : name 'b' is not defined\") # 윗줄에서 Error 발생!"
   ]
  },
  {
   "cell_type": "markdown",
   "metadata": {},
   "source": [
    "* #### 함수 내의 값은 지역변수, 바깥에 있는 것은 전역변수\n",
    "* #### 함수 내에서 전역변수를 접근하기 위해서는 global 사용"
   ]
  },
  {
   "cell_type": "code",
   "execution_count": 31,
   "metadata": {},
   "outputs": [
    {
     "name": "stdout",
     "output_type": "stream",
     "text": [
      "30\n",
      "30\n"
     ]
    }
   ],
   "source": [
    "a = 10\n",
    "def f():\n",
    "    # a = 20 global 선언하기 전에 이름이 같은 것을 선언하면 Error!\n",
    "    global a\n",
    "    a = 30\n",
    "    print(a)\n",
    "f()\n",
    "print(a)\n",
    "# 하지만 이러한 행위는 권장되지 않는 다는 것을 명심하자!"
   ]
  },
  {
   "cell_type": "markdown",
   "metadata": {},
   "source": [
    "* #### immutable & mutable (바꿀수 있는 것과 없는 것)\n",
    "* #### immutable : 숫자형, str, tuple, range\n",
    "* #### mutable : list, dict, set "
   ]
  },
  {
   "cell_type": "code",
   "execution_count": 32,
   "metadata": {},
   "outputs": [
    {
     "name": "stdout",
     "output_type": "stream",
     "text": [
      "[0, 1, 2, 3, 4, 5, 6, 7, 8, 9]\n",
      "I hate candy\n",
      "2350889121856\n",
      "2350889121856\n",
      "2350889319296\n",
      "[45, 1, 2, 3, 4, 5, 6, 7, 8, 9]\n",
      "I hate candy\n"
     ]
    }
   ],
   "source": [
    "a = list(range(10))\n",
    "b = \"I hate candy\"\n",
    "print(a,b,sep=\"\\n\")\n",
    "print(id(a))\n",
    "\n",
    "def f(a): # list는 mutable이여서 call by reference\n",
    "    a[0] = sum(a) # list 내에서의 변화는 id가 변하지 않지만\n",
    "    print(id(a)) # 아래거처럼 통으로 변화는 것은 id가 변하게 된다\n",
    "    a = a[::-1] # 안되는 것은 자명하지만 질문은 해보자\n",
    "    print(id(a))\n",
    "    \n",
    "def g(b): # str는 immutable이려서 call by value\n",
    "    b = \"He\" + b[1:]\n",
    "    \n",
    "f(a)\n",
    "g(b)\n",
    "print(a,b,sep=\"\\n\")"
   ]
  },
  {
   "cell_type": "markdown",
   "metadata": {},
   "source": [
    "* ### lambda 함수 익명함수 생성\n",
    "## 기본형\n",
    "* * *\n",
    "#### lambda 매개변수 : 매개변수를 이용한 표현식"
   ]
  },
  {
   "cell_type": "code",
   "execution_count": 33,
   "metadata": {},
   "outputs": [
    {
     "name": "stdout",
     "output_type": "stream",
     "text": [
      "7\n",
      "14\n",
      "14\n"
     ]
    }
   ],
   "source": [
    "add = lambda a,b : a+b\n",
    "print(add(3,4))\n",
    "\n",
    "def inc(n):\n",
    "    return lambda x : x+n\n",
    "print(inc(2)(12)) # 이것을 어떻게 이해해야 될까?\n",
    "t = inc(2)\n",
    "print(t(12)) # 두개를 이어쓰면 위의 코드가 나오게 된다"
   ]
  },
  {
   "cell_type": "markdown",
   "metadata": {},
   "source": [
    "* ### map과의 collaboration!!!\n",
    "#### map(func, iterable 객체)"
   ]
  },
  {
   "cell_type": "code",
   "execution_count": 34,
   "metadata": {},
   "outputs": [
    {
     "name": "stdout",
     "output_type": "stream",
     "text": [
      "[1, 2, 0, 4]\n",
      "[1, 2, 0, 4]\n"
     ]
    }
   ],
   "source": [
    "a = [1,2,3,4]\n",
    "b = [1,1,0,1]\n",
    "print(list(map(lambda a,b:a*b,a,b))) # 이것은 무엇과 같다 하면....\n",
    "\n",
    "def f(a,b):\n",
    "    return a*b\n",
    "\n",
    "print(list(map(f,a,b))) # 이것이 남아있을만 한 가치가 있는 함수 인지 생각해보자!"
   ]
  },
  {
   "cell_type": "markdown",
   "metadata": {},
   "source": [
    "* #### 응용 예시 (연습문제 모음 3 AD)\n",
    "* #### 가장 많이 받은 학생의 명수를 구하고 그 학생을 출력하는 문제\n",
    "* #### 이 때, dict의 value를 조사하기 위해서 lambda 함수를 만들어서 해결"
   ]
  },
  {
   "cell_type": "code",
   "execution_count": 35,
   "metadata": {},
   "outputs": [
    {
     "name": "stdout",
     "output_type": "stream",
     "text": [
      "2203 4\n"
     ]
    }
   ],
   "source": [
    "a = [2110,2110,2101,2101,2101,2203,2203,2203,2203,2110]\n",
    "b = dict() # b = {}와 같다\n",
    "for i in set(a):\n",
    "    b[i] = a.count(i)\n",
    "c = max(b,key=lambda t:b[t])\n",
    "print(c,b[c])"
   ]
  },
  {
   "cell_type": "code",
   "execution_count": null,
   "metadata": {},
   "outputs": [],
   "source": []
  }
 ],
 "metadata": {
  "kernelspec": {
   "display_name": "Python 3",
   "language": "python",
   "name": "python3"
  },
  "language_info": {
   "codemirror_mode": {
    "name": "ipython",
    "version": 3
   },
   "file_extension": ".py",
   "mimetype": "text/x-python",
   "name": "python",
   "nbconvert_exporter": "python",
   "pygments_lexer": "ipython3",
   "version": "3.8.5"
  }
 },
 "nbformat": 4,
 "nbformat_minor": 4
}
